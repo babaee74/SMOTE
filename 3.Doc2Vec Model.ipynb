{
 "cells": [
  {
   "cell_type": "code",
   "execution_count": 1,
   "metadata": {},
   "outputs": [],
   "source": [
    "# Data Manipulation\n",
    "import pandas as pd\n",
    "import numpy as np\n",
    "import json\n",
    "from pathlib import Path\n",
    "from pandas import DataFrame\n",
    "\n",
    "# Natural Language Processing\n",
    "from nltk.corpus import stopwords\n",
    "from nltk.tokenize import TweetTokenizer\n",
    "from nltk.stem import WordNetLemmatizer\n",
    "from gensim.models import Word2Vec\n",
    "from gensim.models.doc2vec import Doc2Vec, TaggedDocument\n",
    "from nltk.tokenize import word_tokenize\n",
    "from pandas.io.json import json_normalize\n",
    "\n",
    "import pickle"
   ]
  },
  {
   "cell_type": "code",
   "execution_count": 2,
   "metadata": {},
   "outputs": [
    {
     "name": "stdout",
     "output_type": "stream",
     "text": [
      "3.7.4\n"
     ]
    }
   ],
   "source": [
    "from platform import python_version\n",
    "print(python_version())"
   ]
  },
  {
   "cell_type": "code",
   "execution_count": 3,
   "metadata": {},
   "outputs": [
    {
     "name": "stdout",
     "output_type": "stream",
     "text": [
      "Requirement already satisfied: numpy in c:\\users\\ehsan74\\appdata\\roaming\\python\\python37\\site-packages (1.18.2)\n"
     ]
    }
   ],
   "source": [
    "# Install a pip package in the current Jupyter kernel\n",
    "import sys\n",
    "!{sys.executable} -m pip install numpy"
   ]
  },
  {
   "cell_type": "code",
   "execution_count": 4,
   "metadata": {},
   "outputs": [
    {
     "data": {
      "text/plain": [
       "'1.18.2'"
      ]
     },
     "execution_count": 4,
     "metadata": {},
     "output_type": "execute_result"
    }
   ],
   "source": [
    "import numpy\n",
    "numpy.version.version"
   ]
  },
  {
   "cell_type": "code",
   "execution_count": 5,
   "metadata": {},
   "outputs": [
    {
     "name": "stdout",
     "output_type": "stream",
     "text": [
      "Requirement already up-to-date: numpy in c:\\users\\ehsan74\\appdata\\roaming\\python\\python37\\site-packages (1.18.2)\n",
      "Note: you may need to restart the kernel to use updated packages.\n"
     ]
    }
   ],
   "source": [
    "pip install numpy --upgrade"
   ]
  },
  {
   "cell_type": "code",
   "execution_count": 7,
   "metadata": {},
   "outputs": [],
   "source": [
    "from gensim.models.doc2vec import Doc2Vec\n",
    "\n",
    "model= Doc2Vec.load(\"d2v(1).model\")"
   ]
  },
  {
   "cell_type": "code",
   "execution_count": 8,
   "metadata": {},
   "outputs": [],
   "source": [
    "result = pd.read_csv(\"Result 6.csv\", encoding = \"ISO-8859-1\")"
   ]
  },
  {
   "cell_type": "code",
   "execution_count": 9,
   "metadata": {},
   "outputs": [],
   "source": [
    "test_empty_df = pd.DataFrame()\n",
    "\n",
    "for index, row in result.iterrows():\n",
    "\n",
    "    sentence = model.infer_vector(row['title'].split())\n",
    "\n",
    "    test_empty_df = test_empty_df.append(pd.DataFrame(sentence))\n",
    "\n",
    "test_empty_df = test_empty_df.reset_index(drop = True)\n",
    "\n",
    "final_df = pd.concat([test_empty_df,result[['Label']]],axis=1)\n",
    "final_df.to_csv('Doc2Vec Titles_hanieh.csv')"
   ]
  },
  {
   "cell_type": "code",
   "execution_count": 10,
   "metadata": {},
   "outputs": [],
   "source": [
    "#apply Word2Vec on clean_headline\n",
    "# One way of doing this is creating a new dataframe that will contain the word vectors.\n",
    "test_empty_df = pd.DataFrame()\n",
    "\n",
    "# Interate over pandas dataframe and for each string of text, save the summed vector to test_empty_df\n",
    "for index, row in result.iterrows():\n",
    "    #print(type(row['body']))\n",
    "    sentence = model.infer_vector(row['title'].split())\n",
    "    # reshape it so it will be added as a row, not a column\n",
    "    sentence_reshaped = np.reshape(sentence, (1, 100))\n",
    "    # add the vector to the dataframe\n",
    "    test_empty_df = test_empty_df.append(pd.DataFrame(sentence_reshaped))\n",
    "\n",
    "test_empty_df = test_empty_df.reset_index(drop = True)\n",
    "\n",
    "final_df = pd.concat([test_empty_df,result[['Label']]],axis=1)\n",
    "final_df.to_csv('Doc2Vec Titles_New Result.csv')"
   ]
  },
  {
   "cell_type": "code",
   "execution_count": null,
   "metadata": {},
   "outputs": [],
   "source": []
  }
 ],
 "metadata": {
  "kernelspec": {
   "display_name": "Python 3",
   "language": "python",
   "name": "python3"
  },
  "language_info": {
   "codemirror_mode": {
    "name": "ipython",
    "version": 3
   },
   "file_extension": ".py",
   "mimetype": "text/x-python",
   "name": "python",
   "nbconvert_exporter": "python",
   "pygments_lexer": "ipython3",
   "version": "3.7.4"
  }
 },
 "nbformat": 4,
 "nbformat_minor": 2
}
